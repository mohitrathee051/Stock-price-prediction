{
  "nbformat": 4,
  "nbformat_minor": 0,
  "metadata": {
    "colab": {
      "provenance": []
    },
    "kernelspec": {
      "name": "python3",
      "display_name": "Python 3"
    },
    "language_info": {
      "name": "python"
    }
  },
  "cells": [
    {
      "cell_type": "code",
      "execution_count": 6,
      "metadata": {
        "id": "z6ZKbSB3fVoc"
      },
      "outputs": [],
      "source": [
        "# Install required libraries\n",
        "!pip install -q yfinance pandas gradio scikit-learn matplotlib tensorflow pillow"
      ]
    },
    {
      "cell_type": "code",
      "source": [
        "# Import libraries\n",
        "import yfinance as yf\n",
        "import pandas as pd\n",
        "import numpy as np\n",
        "import gradio as gr\n",
        "import matplotlib.pyplot as plt\n",
        "import io\n",
        "from PIL import Image\n",
        "\n",
        "from sklearn.preprocessing import MinMaxScaler\n",
        "from tensorflow.keras.models import Sequential\n",
        "from tensorflow.keras.layers import Dense, LSTM"
      ],
      "metadata": {
        "id": "2VxAoAFefiRr"
      },
      "execution_count": 7,
      "outputs": []
    },
    {
      "cell_type": "code",
      "source": [
        "stock_options = {\n",
        "    'Apple (AAPL) 📱': 'AAPL',\n",
        "    'Google (GOOGL) 🌐': 'GOOGL',\n",
        "    'Microsoft (MSFT) 💻': 'MSFT',\n",
        "    'Tesla (TSLA) 🚗': 'TSLA',\n",
        "    'Amazon (AMZN) 📦': 'AMZN'\n",
        "}\n"
      ],
      "metadata": {
        "id": "Sdrr2oknfl9S"
      },
      "execution_count": 8,
      "outputs": []
    },
    {
      "cell_type": "code",
      "source": [
        "# Function to fetch, process, train, and predict\n",
        "def get_stock_data(ticker):\n",
        "    df = yf.download(ticker, period='5y')\n",
        "    data = df[['Close']].dropna()\n",
        "\n",
        "    # Normalize\n",
        "    scaler = MinMaxScaler(feature_range=(0, 1))\n",
        "    scaled_data = scaler.fit_transform(data)\n",
        "\n",
        "    # Create sequences\n",
        "    X, y = [], []\n",
        "    for i in range(60, len(scaled_data)):\n",
        "        X.append(scaled_data[i-60:i, 0])\n",
        "        y.append(scaled_data[i, 0])\n",
        "    X, y = np.array(X), np.array(y)\n",
        "    X = np.reshape(X, (X.shape[0], X.shape[1], 1))\n",
        "\n",
        "    # LSTM model\n",
        "    model = Sequential()\n",
        "    model.add(LSTM(units=50, return_sequences=True, input_shape=(X.shape[1], 1)))\n",
        "    model.add(LSTM(units=50))\n",
        "    model.add(Dense(1))\n",
        "    model.compile(optimizer='adam', loss='mean_squared_error')\n",
        "    model.fit(X, y, epochs=5, batch_size=32, verbose=0)\n",
        "\n",
        "    # Predict next closing price\n",
        "    last_60 = scaled_data[-60:]\n",
        "    last_60 = np.reshape(last_60, (1, 60, 1))\n",
        "    prediction = model.predict(last_60)\n",
        "    predicted_price = scaler.inverse_transform(prediction)[0][0]\n",
        "\n",
        "    # Plot last 100 days with predicted price\n",
        "    plt.figure(figsize=(8, 4))\n",
        "    plt.plot(data.index[-100:], data['Close'][-100:], label=\"Actual Price\")\n",
        "    plt.axhline(y=predicted_price, color='r', linestyle='--', label=\"Predicted Next Price\")\n",
        "    plt.title(f\"{ticker} - Last 100 Days & Next Prediction\")\n",
        "    plt.xlabel(\"Date\")\n",
        "    plt.ylabel(\"Price\")\n",
        "    plt.legend()\n",
        "    plt.tight_layout()\n",
        "\n",
        "    # Convert plot to image\n",
        "    buf = io.BytesIO()\n",
        "    plt.savefig(buf, format='png')\n",
        "    buf.seek(0)\n",
        "    img = Image.open(buf)\n",
        "    plt.close()\n",
        "\n",
        "    return f\"Predicted next closing price: ${predicted_price:.2f} 💰\", img"
      ],
      "metadata": {
        "id": "CMGnJmYBfroB"
      },
      "execution_count": 9,
      "outputs": []
    },
    {
      "cell_type": "code",
      "source": [
        "\n",
        "# Gradio app\n",
        "def app(label):\n",
        "    ticker = stock_options[label]\n",
        "    return get_stock_data(ticker)\n",
        "\n",
        "gr.Interface(\n",
        "    fn=app,\n",
        "    inputs=gr.Dropdown(choices=list(stock_options.keys()), label=\"Select a Stock 📊\"),\n",
        "    outputs=[\"text\", \"image\"],\n",
        "    title=\"Stock Price Prediction with LSTM 📈💹\",\n",
        "    description=\"Pick a stock to see its predicted next closing price using deep learning (LSTM model).\"\n",
        ").launch(share=True)"
      ],
      "metadata": {
        "colab": {
          "base_uri": "https://localhost:8080/",
          "height": 611
        },
        "id": "31w-StMqf1y5",
        "outputId": "a10743a0-14b0-4a98-9862-7314b55dbe68"
      },
      "execution_count": 10,
      "outputs": [
        {
          "output_type": "stream",
          "name": "stdout",
          "text": [
            "Colab notebook detected. To show errors in colab notebook, set debug=True in launch()\n",
            "* Running on public URL: https://1fc1fdee798fcbf749.gradio.live\n",
            "\n",
            "This share link expires in 1 week. For free permanent hosting and GPU upgrades, run `gradio deploy` from the terminal in the working directory to deploy to Hugging Face Spaces (https://huggingface.co/spaces)\n"
          ]
        },
        {
          "output_type": "display_data",
          "data": {
            "text/plain": [
              "<IPython.core.display.HTML object>"
            ],
            "text/html": [
              "<div><iframe src=\"https://1fc1fdee798fcbf749.gradio.live\" width=\"100%\" height=\"500\" allow=\"autoplay; camera; microphone; clipboard-read; clipboard-write;\" frameborder=\"0\" allowfullscreen></iframe></div>"
            ]
          },
          "metadata": {}
        },
        {
          "output_type": "execute_result",
          "data": {
            "text/plain": []
          },
          "metadata": {},
          "execution_count": 10
        }
      ]
    }
  ]
}